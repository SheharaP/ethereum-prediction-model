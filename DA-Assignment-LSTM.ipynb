{
 "cells": [
  {
   "cell_type": "code",
   "execution_count": null,
   "metadata": {
    "executionInfo": {
     "elapsed": 2,
     "status": "ok",
     "timestamp": 1686143912412,
     "user": {
      "displayName": "Shehara Pandithasekera",
      "userId": "11609127023175374977"
     },
     "user_tz": -330
    },
    "id": "DIN_ifyUWxry"
   },
   "outputs": [],
   "source": [
    "pip install tensorflow"
   ]
  },
  {
   "cell_type": "code",
   "execution_count": 2,
   "metadata": {
    "executionInfo": {
     "elapsed": 3524,
     "status": "ok",
     "timestamp": 1686143919898,
     "user": {
      "displayName": "Shehara Pandithasekera",
      "userId": "11609127023175374977"
     },
     "user_tz": -330
    },
    "id": "ejhbRMjXWiT1"
   },
   "outputs": [],
   "source": [
    "import pandas as pd\n",
    "import numpy as np\n",
    "from sklearn.preprocessing import MinMaxScaler\n",
    "from tensorflow.keras.models import Sequential\n",
    "from tensorflow.keras.layers import LSTM, Dense\n",
    "from sklearn.metrics import mean_squared_error"
   ]
  },
  {
   "cell_type": "code",
   "execution_count": 3,
   "metadata": {
    "colab": {
     "base_uri": "https://localhost:8080/",
     "height": 250
    },
    "executionInfo": {
     "elapsed": 395,
     "status": "ok",
     "timestamp": 1686143923588,
     "user": {
      "displayName": "Shehara Pandithasekera",
      "userId": "11609127023175374977"
     },
     "user_tz": -330
    },
    "id": "ghI7VfuuW2fr",
    "outputId": "a95e2c5c-72b4-45d4-b521-307b3627def0"
   },
   "outputs": [
    {
     "data": {
      "text/html": [
       "<div>\n",
       "<style scoped>\n",
       "    .dataframe tbody tr th:only-of-type {\n",
       "        vertical-align: middle;\n",
       "    }\n",
       "\n",
       "    .dataframe tbody tr th {\n",
       "        vertical-align: top;\n",
       "    }\n",
       "\n",
       "    .dataframe thead th {\n",
       "        text-align: right;\n",
       "    }\n",
       "</style>\n",
       "<table border=\"1\" class=\"dataframe\">\n",
       "  <thead>\n",
       "    <tr style=\"text-align: right;\">\n",
       "      <th></th>\n",
       "      <th>date</th>\n",
       "      <th>ether_price</th>\n",
       "      <th>daily_tx_volume</th>\n",
       "      <th>unqiue_address_count</th>\n",
       "      <th>network_hashes</th>\n",
       "      <th>marketcap</th>\n",
       "      <th>tx_fee</th>\n",
       "      <th>network_util</th>\n",
       "      <th>gas_used</th>\n",
       "    </tr>\n",
       "  </thead>\n",
       "  <tbody>\n",
       "    <tr>\n",
       "      <th>0</th>\n",
       "      <td>7/30/2015</td>\n",
       "      <td>0.0</td>\n",
       "      <td>8893</td>\n",
       "      <td>8894</td>\n",
       "      <td>11.5297</td>\n",
       "      <td>0.0</td>\n",
       "      <td>0.0</td>\n",
       "      <td>0.0</td>\n",
       "      <td>0.0</td>\n",
       "    </tr>\n",
       "    <tr>\n",
       "      <th>1</th>\n",
       "      <td>7/31/2015</td>\n",
       "      <td>0.0</td>\n",
       "      <td>0</td>\n",
       "      <td>0</td>\n",
       "      <td>51.4594</td>\n",
       "      <td>0.0</td>\n",
       "      <td>0.0</td>\n",
       "      <td>0.0</td>\n",
       "      <td>0.0</td>\n",
       "    </tr>\n",
       "    <tr>\n",
       "      <th>2</th>\n",
       "      <td>8/1/2015</td>\n",
       "      <td>0.0</td>\n",
       "      <td>0</td>\n",
       "      <td>0</td>\n",
       "      <td>57.7845</td>\n",
       "      <td>0.0</td>\n",
       "      <td>0.0</td>\n",
       "      <td>0.0</td>\n",
       "      <td>0.0</td>\n",
       "    </tr>\n",
       "    <tr>\n",
       "      <th>3</th>\n",
       "      <td>8/2/2015</td>\n",
       "      <td>0.0</td>\n",
       "      <td>0</td>\n",
       "      <td>0</td>\n",
       "      <td>67.9224</td>\n",
       "      <td>0.0</td>\n",
       "      <td>0.0</td>\n",
       "      <td>0.0</td>\n",
       "      <td>0.0</td>\n",
       "    </tr>\n",
       "    <tr>\n",
       "      <th>4</th>\n",
       "      <td>8/3/2015</td>\n",
       "      <td>0.0</td>\n",
       "      <td>0</td>\n",
       "      <td>0</td>\n",
       "      <td>74.5737</td>\n",
       "      <td>0.0</td>\n",
       "      <td>0.0</td>\n",
       "      <td>0.0</td>\n",
       "      <td>0.0</td>\n",
       "    </tr>\n",
       "  </tbody>\n",
       "</table>\n",
       "</div>"
      ],
      "text/plain": [
       "        date  ether_price  daily_tx_volume  unqiue_address_count  \\\n",
       "0  7/30/2015          0.0             8893                  8894   \n",
       "1  7/31/2015          0.0                0                     0   \n",
       "2   8/1/2015          0.0                0                     0   \n",
       "3   8/2/2015          0.0                0                     0   \n",
       "4   8/3/2015          0.0                0                     0   \n",
       "\n",
       "   network_hashes  marketcap  tx_fee  network_util  gas_used  \n",
       "0         11.5297        0.0     0.0           0.0       0.0  \n",
       "1         51.4594        0.0     0.0           0.0       0.0  \n",
       "2         57.7845        0.0     0.0           0.0       0.0  \n",
       "3         67.9224        0.0     0.0           0.0       0.0  \n",
       "4         74.5737        0.0     0.0           0.0       0.0  "
      ]
     },
     "execution_count": 3,
     "metadata": {},
     "output_type": "execute_result"
    }
   ],
   "source": [
    "df = pd.read_csv(\"ethereum-price-dataset-new.csv\")\n",
    "df.head()"
   ]
  },
  {
   "cell_type": "code",
   "execution_count": 4,
   "metadata": {
    "executionInfo": {
     "elapsed": 782,
     "status": "ok",
     "timestamp": 1686143928912,
     "user": {
      "displayName": "Shehara Pandithasekera",
      "userId": "11609127023175374977"
     },
     "user_tz": -330
    },
    "id": "dBmfoAarYR3o"
   },
   "outputs": [
    {
     "data": {
      "text/html": [
       "<div>\n",
       "<style scoped>\n",
       "    .dataframe tbody tr th:only-of-type {\n",
       "        vertical-align: middle;\n",
       "    }\n",
       "\n",
       "    .dataframe tbody tr th {\n",
       "        vertical-align: top;\n",
       "    }\n",
       "\n",
       "    .dataframe thead th {\n",
       "        text-align: right;\n",
       "    }\n",
       "</style>\n",
       "<table border=\"1\" class=\"dataframe\">\n",
       "  <thead>\n",
       "    <tr style=\"text-align: right;\">\n",
       "      <th></th>\n",
       "      <th>date</th>\n",
       "      <th>ether_price</th>\n",
       "      <th>daily_tx_volume</th>\n",
       "      <th>unqiue_address_count</th>\n",
       "      <th>network_hashes</th>\n",
       "      <th>marketcap</th>\n",
       "      <th>tx_fee</th>\n",
       "      <th>network_util</th>\n",
       "      <th>gas_used</th>\n",
       "    </tr>\n",
       "  </thead>\n",
       "  <tbody>\n",
       "    <tr>\n",
       "      <th>0</th>\n",
       "      <td>1438214400000000000</td>\n",
       "      <td>0.0</td>\n",
       "      <td>8893</td>\n",
       "      <td>8894</td>\n",
       "      <td>11.5297</td>\n",
       "      <td>0.0</td>\n",
       "      <td>0.0</td>\n",
       "      <td>0.0</td>\n",
       "      <td>0.0</td>\n",
       "    </tr>\n",
       "    <tr>\n",
       "      <th>1</th>\n",
       "      <td>1438300800000000000</td>\n",
       "      <td>0.0</td>\n",
       "      <td>0</td>\n",
       "      <td>0</td>\n",
       "      <td>51.4594</td>\n",
       "      <td>0.0</td>\n",
       "      <td>0.0</td>\n",
       "      <td>0.0</td>\n",
       "      <td>0.0</td>\n",
       "    </tr>\n",
       "    <tr>\n",
       "      <th>2</th>\n",
       "      <td>1438387200000000000</td>\n",
       "      <td>0.0</td>\n",
       "      <td>0</td>\n",
       "      <td>0</td>\n",
       "      <td>57.7845</td>\n",
       "      <td>0.0</td>\n",
       "      <td>0.0</td>\n",
       "      <td>0.0</td>\n",
       "      <td>0.0</td>\n",
       "    </tr>\n",
       "    <tr>\n",
       "      <th>3</th>\n",
       "      <td>1438473600000000000</td>\n",
       "      <td>0.0</td>\n",
       "      <td>0</td>\n",
       "      <td>0</td>\n",
       "      <td>67.9224</td>\n",
       "      <td>0.0</td>\n",
       "      <td>0.0</td>\n",
       "      <td>0.0</td>\n",
       "      <td>0.0</td>\n",
       "    </tr>\n",
       "    <tr>\n",
       "      <th>4</th>\n",
       "      <td>1438560000000000000</td>\n",
       "      <td>0.0</td>\n",
       "      <td>0</td>\n",
       "      <td>0</td>\n",
       "      <td>74.5737</td>\n",
       "      <td>0.0</td>\n",
       "      <td>0.0</td>\n",
       "      <td>0.0</td>\n",
       "      <td>0.0</td>\n",
       "    </tr>\n",
       "  </tbody>\n",
       "</table>\n",
       "</div>"
      ],
      "text/plain": [
       "                  date  ether_price  daily_tx_volume  unqiue_address_count  \\\n",
       "0  1438214400000000000          0.0             8893                  8894   \n",
       "1  1438300800000000000          0.0                0                     0   \n",
       "2  1438387200000000000          0.0                0                     0   \n",
       "3  1438473600000000000          0.0                0                     0   \n",
       "4  1438560000000000000          0.0                0                     0   \n",
       "\n",
       "   network_hashes  marketcap  tx_fee  network_util  gas_used  \n",
       "0         11.5297        0.0     0.0           0.0       0.0  \n",
       "1         51.4594        0.0     0.0           0.0       0.0  \n",
       "2         57.7845        0.0     0.0           0.0       0.0  \n",
       "3         67.9224        0.0     0.0           0.0       0.0  \n",
       "4         74.5737        0.0     0.0           0.0       0.0  "
      ]
     },
     "execution_count": 4,
     "metadata": {},
     "output_type": "execute_result"
    }
   ],
   "source": [
    "df['date'] = pd.to_datetime(df['date']).astype('int64')\n",
    "df.head()"
   ]
  },
  {
   "cell_type": "code",
   "execution_count": 5,
   "metadata": {
    "executionInfo": {
     "elapsed": 2,
     "status": "ok",
     "timestamp": 1686143930587,
     "user": {
      "displayName": "Shehara Pandithasekera",
      "userId": "11609127023175374977"
     },
     "user_tz": -330
    },
    "id": "uqI1EMetW7rK"
   },
   "outputs": [],
   "source": [
    "Y=df['ether_price']\n",
    "X=df.drop('ether_price', axis=1).values"
   ]
  },
  {
   "cell_type": "code",
   "execution_count": 6,
   "metadata": {
    "executionInfo": {
     "elapsed": 2,
     "status": "ok",
     "timestamp": 1686143932183,
     "user": {
      "displayName": "Shehara Pandithasekera",
      "userId": "11609127023175374977"
     },
     "user_tz": -330
    },
    "id": "yYde1q8xW-CE"
   },
   "outputs": [],
   "source": [
    "scaler = MinMaxScaler()\n",
    "scaled_features = scaler.fit_transform(X)"
   ]
  },
  {
   "cell_type": "code",
   "execution_count": 7,
   "metadata": {
    "executionInfo": {
     "elapsed": 2,
     "status": "ok",
     "timestamp": 1686143933776,
     "user": {
      "displayName": "Shehara Pandithasekera",
      "userId": "11609127023175374977"
     },
     "user_tz": -330
    },
    "id": "OzSw46kSXTTl"
   },
   "outputs": [],
   "source": [
    "train_size = int(len(df) * 0.7)\n",
    "train_features = scaled_features[:train_size]\n",
    "train_target = Y[:train_size]\n",
    "test_features = scaled_features[train_size:]\n",
    "test_target = Y[train_size:]"
   ]
  },
  {
   "cell_type": "code",
   "execution_count": 8,
   "metadata": {
    "executionInfo": {
     "elapsed": 3,
     "status": "ok",
     "timestamp": 1686143935792,
     "user": {
      "displayName": "Shehara Pandithasekera",
      "userId": "11609127023175374977"
     },
     "user_tz": -330
    },
    "id": "KxRFma8_YrPX"
   },
   "outputs": [],
   "source": [
    "# Reshape the data for LSTM\n",
    "train_features = np.reshape(train_features, (train_features.shape[0], 1, train_features.shape[1]))\n",
    "test_features = np.reshape(test_features, (test_features.shape[0], 1, test_features.shape[1]))"
   ]
  },
  {
   "cell_type": "code",
   "execution_count": 9,
   "metadata": {
    "colab": {
     "base_uri": "https://localhost:8080/"
    },
    "executionInfo": {
     "elapsed": 32811,
     "status": "ok",
     "timestamp": 1686143970262,
     "user": {
      "displayName": "Shehara Pandithasekera",
      "userId": "11609127023175374977"
     },
     "user_tz": -330
    },
    "id": "Z0GEhaMXYupX",
    "outputId": "57c3ad69-6b51-4020-f822-224a37dc6034"
   },
   "outputs": [
    {
     "name": "stdout",
     "output_type": "stream",
     "text": [
      "Epoch 1/100\n",
      "126/126 [==============================] - 2s 3ms/step - loss: 117109.5859\n",
      "Epoch 2/100\n",
      "126/126 [==============================] - 0s 2ms/step - loss: 83141.0938\n",
      "Epoch 3/100\n",
      "126/126 [==============================] - 0s 2ms/step - loss: 37355.8008\n",
      "Epoch 4/100\n",
      "126/126 [==============================] - 0s 2ms/step - loss: 33524.7891\n",
      "Epoch 5/100\n",
      "126/126 [==============================] - 0s 2ms/step - loss: 32518.7910\n",
      "Epoch 6/100\n",
      "126/126 [==============================] - 0s 3ms/step - loss: 31640.5449\n",
      "Epoch 7/100\n",
      "126/126 [==============================] - 0s 3ms/step - loss: 30733.5469\n",
      "Epoch 8/100\n",
      "126/126 [==============================] - 0s 4ms/step - loss: 29602.2207\n",
      "Epoch 9/100\n",
      "126/126 [==============================] - 0s 4ms/step - loss: 28351.6387\n",
      "Epoch 10/100\n",
      "126/126 [==============================] - 0s 3ms/step - loss: 27087.2129\n",
      "Epoch 11/100\n",
      "126/126 [==============================] - 0s 3ms/step - loss: 25548.0938\n",
      "Epoch 12/100\n",
      "126/126 [==============================] - 0s 4ms/step - loss: 24333.4414\n",
      "Epoch 13/100\n",
      "126/126 [==============================] - 0s 4ms/step - loss: 22437.9473\n",
      "Epoch 14/100\n",
      "126/126 [==============================] - 0s 4ms/step - loss: 20729.4492\n",
      "Epoch 15/100\n",
      "126/126 [==============================] - 1s 4ms/step - loss: 18194.4551\n",
      "Epoch 16/100\n",
      "126/126 [==============================] - 1s 4ms/step - loss: 15116.9766\n",
      "Epoch 17/100\n",
      "126/126 [==============================] - 1s 5ms/step - loss: 10756.2656\n",
      "Epoch 18/100\n",
      "126/126 [==============================] - 1s 5ms/step - loss: 7450.7319\n",
      "Epoch 19/100\n",
      "126/126 [==============================] - 1s 5ms/step - loss: 5493.6909\n",
      "Epoch 20/100\n",
      "126/126 [==============================] - 1s 5ms/step - loss: 4881.5850\n",
      "Epoch 21/100\n",
      "126/126 [==============================] - 1s 5ms/step - loss: 4496.5903\n",
      "Epoch 22/100\n",
      "126/126 [==============================] - 1s 5ms/step - loss: 4415.1396\n",
      "Epoch 23/100\n",
      "126/126 [==============================] - 1s 7ms/step - loss: 4214.0063\n",
      "Epoch 24/100\n",
      "126/126 [==============================] - 0s 4ms/step - loss: 4115.6943\n",
      "Epoch 25/100\n",
      "126/126 [==============================] - 0s 4ms/step - loss: 4010.8770\n",
      "Epoch 26/100\n",
      "126/126 [==============================] - 0s 4ms/step - loss: 3921.6516\n",
      "Epoch 27/100\n",
      "126/126 [==============================] - 0s 4ms/step - loss: 3935.7227\n",
      "Epoch 28/100\n",
      "126/126 [==============================] - 0s 4ms/step - loss: 3707.2410\n",
      "Epoch 29/100\n",
      "126/126 [==============================] - 1s 4ms/step - loss: 3597.8459\n",
      "Epoch 30/100\n",
      "126/126 [==============================] - 0s 4ms/step - loss: 3498.6155\n",
      "Epoch 31/100\n",
      "126/126 [==============================] - 0s 4ms/step - loss: 3389.6272\n",
      "Epoch 32/100\n",
      "126/126 [==============================] - 0s 4ms/step - loss: 3329.5457\n",
      "Epoch 33/100\n",
      "126/126 [==============================] - 0s 3ms/step - loss: 3200.5535\n",
      "Epoch 34/100\n",
      "126/126 [==============================] - 0s 3ms/step - loss: 3056.0889\n",
      "Epoch 35/100\n",
      "126/126 [==============================] - 0s 3ms/step - loss: 2963.4055\n",
      "Epoch 36/100\n",
      "126/126 [==============================] - 0s 3ms/step - loss: 2852.9231\n",
      "Epoch 37/100\n",
      "126/126 [==============================] - 0s 3ms/step - loss: 2770.1575\n",
      "Epoch 38/100\n",
      "126/126 [==============================] - 0s 3ms/step - loss: 2666.3901\n",
      "Epoch 39/100\n",
      "126/126 [==============================] - 0s 3ms/step - loss: 2597.2100\n",
      "Epoch 40/100\n",
      "126/126 [==============================] - 0s 3ms/step - loss: 2499.9824\n",
      "Epoch 41/100\n",
      "126/126 [==============================] - 0s 3ms/step - loss: 2359.4648\n",
      "Epoch 42/100\n",
      "126/126 [==============================] - 0s 3ms/step - loss: 2265.9587\n",
      "Epoch 43/100\n",
      "126/126 [==============================] - 0s 3ms/step - loss: 2242.0222\n",
      "Epoch 44/100\n",
      "126/126 [==============================] - 0s 3ms/step - loss: 2127.4932\n",
      "Epoch 45/100\n",
      "126/126 [==============================] - 0s 3ms/step - loss: 2008.7439\n",
      "Epoch 46/100\n",
      "126/126 [==============================] - 0s 3ms/step - loss: 1950.1575\n",
      "Epoch 47/100\n",
      "126/126 [==============================] - 0s 4ms/step - loss: 1806.3184\n",
      "Epoch 48/100\n",
      "126/126 [==============================] - 0s 4ms/step - loss: 1727.2139\n",
      "Epoch 49/100\n",
      "126/126 [==============================] - 0s 4ms/step - loss: 1679.8003\n",
      "Epoch 50/100\n",
      "126/126 [==============================] - 1s 4ms/step - loss: 1524.3710\n",
      "Epoch 51/100\n",
      "126/126 [==============================] - 1s 5ms/step - loss: 1494.2946\n",
      "Epoch 52/100\n",
      "126/126 [==============================] - 1s 4ms/step - loss: 1415.8942\n",
      "Epoch 53/100\n",
      "126/126 [==============================] - 1s 4ms/step - loss: 1366.4578\n",
      "Epoch 54/100\n",
      "126/126 [==============================] - 1s 4ms/step - loss: 1250.1565\n",
      "Epoch 55/100\n",
      "126/126 [==============================] - 1s 6ms/step - loss: 1163.8245\n",
      "Epoch 56/100\n",
      "126/126 [==============================] - 0s 4ms/step - loss: 1089.4154\n",
      "Epoch 57/100\n",
      "126/126 [==============================] - 0s 4ms/step - loss: 1027.4396\n",
      "Epoch 58/100\n",
      "126/126 [==============================] - 0s 4ms/step - loss: 965.9480\n",
      "Epoch 59/100\n",
      "126/126 [==============================] - 0s 3ms/step - loss: 905.9152\n",
      "Epoch 60/100\n",
      "126/126 [==============================] - 0s 4ms/step - loss: 884.0530\n",
      "Epoch 61/100\n",
      "126/126 [==============================] - 0s 4ms/step - loss: 808.3240\n",
      "Epoch 62/100\n",
      "126/126 [==============================] - 0s 3ms/step - loss: 738.1324\n",
      "Epoch 63/100\n",
      "126/126 [==============================] - 0s 3ms/step - loss: 688.2128\n",
      "Epoch 64/100\n",
      "126/126 [==============================] - 0s 3ms/step - loss: 656.1922\n",
      "Epoch 65/100\n",
      "126/126 [==============================] - 0s 3ms/step - loss: 637.3248\n",
      "Epoch 66/100\n",
      "126/126 [==============================] - 0s 4ms/step - loss: 585.7730\n",
      "Epoch 67/100\n",
      "126/126 [==============================] - 0s 3ms/step - loss: 573.4026\n",
      "Epoch 68/100\n",
      "126/126 [==============================] - 0s 4ms/step - loss: 553.5556\n",
      "Epoch 69/100\n",
      "126/126 [==============================] - 0s 4ms/step - loss: 517.3674\n",
      "Epoch 70/100\n",
      "126/126 [==============================] - 0s 4ms/step - loss: 509.4711\n",
      "Epoch 71/100\n",
      "126/126 [==============================] - 0s 4ms/step - loss: 484.3469\n",
      "Epoch 72/100\n",
      "126/126 [==============================] - 0s 4ms/step - loss: 462.7928\n",
      "Epoch 73/100\n",
      "126/126 [==============================] - 0s 3ms/step - loss: 425.4899\n",
      "Epoch 74/100\n",
      "126/126 [==============================] - 0s 4ms/step - loss: 418.5443\n",
      "Epoch 75/100\n",
      "126/126 [==============================] - 0s 4ms/step - loss: 394.5729\n",
      "Epoch 76/100\n",
      "126/126 [==============================] - 0s 4ms/step - loss: 392.9550\n",
      "Epoch 77/100\n",
      "126/126 [==============================] - 0s 4ms/step - loss: 375.1479\n",
      "Epoch 78/100\n",
      "126/126 [==============================] - 0s 4ms/step - loss: 361.3487\n",
      "Epoch 79/100\n",
      "126/126 [==============================] - 1s 4ms/step - loss: 346.5819\n",
      "Epoch 80/100\n",
      "126/126 [==============================] - 1s 5ms/step - loss: 340.1693\n",
      "Epoch 81/100\n",
      "126/126 [==============================] - 1s 5ms/step - loss: 321.9483\n",
      "Epoch 82/100\n",
      "126/126 [==============================] - 1s 6ms/step - loss: 311.9151\n",
      "Epoch 83/100\n",
      "126/126 [==============================] - 1s 5ms/step - loss: 301.5991\n",
      "Epoch 84/100\n",
      "126/126 [==============================] - 1s 5ms/step - loss: 289.3727\n",
      "Epoch 85/100\n",
      "126/126 [==============================] - 1s 5ms/step - loss: 287.7483\n",
      "Epoch 86/100\n",
      "126/126 [==============================] - 1s 5ms/step - loss: 268.3214\n",
      "Epoch 87/100\n",
      "126/126 [==============================] - 1s 4ms/step - loss: 266.7745\n",
      "Epoch 88/100\n",
      "126/126 [==============================] - 1s 5ms/step - loss: 257.1235\n",
      "Epoch 89/100\n",
      "126/126 [==============================] - 1s 6ms/step - loss: 253.5838\n",
      "Epoch 90/100\n",
      "126/126 [==============================] - 0s 4ms/step - loss: 241.1310\n",
      "Epoch 91/100\n",
      "126/126 [==============================] - 0s 4ms/step - loss: 238.5348\n",
      "Epoch 92/100\n",
      "126/126 [==============================] - 0s 3ms/step - loss: 230.1466\n",
      "Epoch 93/100\n",
      "126/126 [==============================] - 0s 3ms/step - loss: 237.0984\n",
      "Epoch 94/100\n",
      "126/126 [==============================] - 0s 4ms/step - loss: 216.1309\n",
      "Epoch 95/100\n",
      "126/126 [==============================] - 0s 4ms/step - loss: 216.7781\n",
      "Epoch 96/100\n",
      "126/126 [==============================] - 0s 3ms/step - loss: 206.6398\n",
      "Epoch 97/100\n",
      "126/126 [==============================] - 0s 3ms/step - loss: 199.1256\n",
      "Epoch 98/100\n",
      "126/126 [==============================] - 0s 3ms/step - loss: 195.4154\n",
      "Epoch 99/100\n",
      "126/126 [==============================] - 0s 3ms/step - loss: 197.0594\n",
      "Epoch 100/100\n",
      "126/126 [==============================] - 0s 3ms/step - loss: 186.1668\n"
     ]
    },
    {
     "data": {
      "text/plain": [
       "<keras.callbacks.History at 0x1d09c9aa040>"
      ]
     },
     "execution_count": 9,
     "metadata": {},
     "output_type": "execute_result"
    }
   ],
   "source": [
    "lstm_model = Sequential()\n",
    "lstm_model.add(LSTM(64, input_shape=(1, X.shape[1]), activation='relu', return_sequences=True))\n",
    "lstm_model.add(LSTM(32, activation='relu'))\n",
    "lstm_model.add(Dense(1))\n",
    "lstm_model.compile(loss='mean_squared_error', optimizer='adam')\n",
    "lstm_model.fit(train_features, train_target, epochs=100, batch_size=16, verbose=1)"
   ]
  },
  {
   "cell_type": "code",
   "execution_count": 10,
   "metadata": {
    "colab": {
     "base_uri": "https://localhost:8080/"
    },
    "executionInfo": {
     "elapsed": 402,
     "status": "ok",
     "timestamp": 1686143978337,
     "user": {
      "displayName": "Shehara Pandithasekera",
      "userId": "11609127023175374977"
     },
     "user_tz": -330
    },
    "id": "OUmrmuwzYyBX",
    "outputId": "3dd1d42e-ba65-4488-f040-2a3c65ababa9"
   },
   "outputs": [
    {
     "name": "stdout",
     "output_type": "stream",
     "text": [
      "27/27 [==============================] - 0s 2ms/step\n"
     ]
    }
   ],
   "source": [
    "y_pred = lstm_model.predict(test_features)\n",
    "y_pred = np.reshape(y_pred, len(y_pred))"
   ]
  },
  {
   "cell_type": "code",
   "execution_count": 11,
   "metadata": {
    "colab": {
     "base_uri": "https://localhost:8080/"
    },
    "executionInfo": {
     "elapsed": 2,
     "status": "ok",
     "timestamp": 1686143979870,
     "user": {
      "displayName": "Shehara Pandithasekera",
      "userId": "11609127023175374977"
     },
     "user_tz": -330
    },
    "id": "nSsr2-U0ZWiX",
    "outputId": "a1c42052-5786-454f-b3c8-fa572620b8e8"
   },
   "outputs": [
    {
     "name": "stdout",
     "output_type": "stream",
     "text": [
      "Mean Squared Error (MSE): 233578.84225447793\n",
      "Root Mean Squared Error (RMSE): 483.2999506046715\n"
     ]
    }
   ],
   "source": [
    "mse = mean_squared_error(test_target, y_pred)\n",
    "print(\"Mean Squared Error (MSE):\", mse)\n",
    "\n",
    "rmse = np.sqrt(mean_squared_error(test_target, y_pred))\n",
    "print(\"Root Mean Squared Error (RMSE):\", rmse)"
   ]
  },
  {
   "cell_type": "code",
   "execution_count": 12,
   "metadata": {
    "executionInfo": {
     "elapsed": 390,
     "status": "ok",
     "timestamp": 1686131029384,
     "user": {
      "displayName": "Shehara Pandithasekera",
      "userId": "11609127023175374977"
     },
     "user_tz": -330
    },
    "id": "8wJTpMhV479K"
   },
   "outputs": [],
   "source": [
    "import matplotlib.pyplot as plt"
   ]
  },
  {
   "cell_type": "code",
   "execution_count": null,
   "metadata": {
    "colab": {
     "base_uri": "https://localhost:8080/"
    },
    "executionInfo": {
     "elapsed": 359,
     "status": "ok",
     "timestamp": 1686131031673,
     "user": {
      "displayName": "Shehara Pandithasekera",
      "userId": "11609127023175374977"
     },
     "user_tz": -330
    },
    "id": "fbqlLZva4-Cg",
    "outputId": "a9b7576a-ce52-46b3-dadc-f76ea1223cfd"
   },
   "outputs": [],
   "source": [
    "df['date'] = pd.to_datetime(df['date'], unit='ns')\n",
    "print(df.head())"
   ]
  },
  {
   "cell_type": "code",
   "execution_count": 19,
   "metadata": {},
   "outputs": [],
   "source": [
    "df_2023 = df[df['date'].dt.year == 2023]"
   ]
  },
  {
   "cell_type": "code",
   "execution_count": 20,
   "metadata": {
    "colab": {
     "base_uri": "https://localhost:8080/",
     "height": 508
    },
    "executionInfo": {
     "elapsed": 653,
     "status": "ok",
     "timestamp": 1686131036725,
     "user": {
      "displayName": "Shehara Pandithasekera",
      "userId": "11609127023175374977"
     },
     "user_tz": -330
    },
    "id": "3lAR1cZO5AY4",
    "outputId": "eba43496-a2d9-4c55-b66b-6e54947d4d41"
   },
   "outputs": [
    {
     "data": {
      "image/png": "[encoded data removed]",
      "text/plain": [
       "<Figure size 640x480 with 1 Axes>"
      ]
     },
     "metadata": {},
     "output_type": "display_data"
    }
   ],
   "source": [
    "plt.plot(df_2023['date'], y_pred[:len(df_2023)])\n",
    "plt.xlabel('Date')\n",
    "plt.ylabel('Ethereum Value (y_pred)')\n",
    "plt.title('Predicted Ethereum Values in 2023')\n",
    "plt.xticks(rotation=45)\n",
    "plt.show()"
   ]
  },
  {
   "cell_type": "code",
   "execution_count": 21,
   "metadata": {
    "colab": {
     "base_uri": "https://localhost:8080/",
     "height": 524
    },
    "executionInfo": {
     "elapsed": 937,
     "status": "ok",
     "timestamp": 1686134608470,
     "user": {
      "displayName": "Shehara Pandithasekera",
      "userId": "11609127023175374977"
     },
     "user_tz": -330
    },
    "id": "jqG2-fmZc7Bs",
    "outputId": "be2fffb4-404a-4ae5-e2ce-6b853ab758e0"
   },
   "outputs": [
    {
     "data": {
      "image/png": "[encoded data removed]",
      "text/plain": [
       "<Figure size 640x480 with 1 Axes>"
      ]
     },
     "metadata": {},
     "output_type": "display_data"
    }
   ],
   "source": [
    "predicted_dates = pd.date_range(start='2023-06-07', end='2023-07-07')\n",
    "\n",
    "plt.plot(predicted_dates, y_pred[:len(predicted_dates)])\n",
    "plt.xlabel('Date')\n",
    "plt.ylabel('Ethereum Price')\n",
    "plt.title('Predicted Ethereum Prices from 6-7-2023 to 7-7-2023')\n",
    "plt.xticks(rotation=45)\n",
    "plt.show()"
   ]
  }
 ],
 "metadata": {
  "colab": {
   "authorship_tag": "ABX9TyO0sXYChGwDv9hCky74EeNf",
   "provenance": []
  },
  "kernelspec": {
   "display_name": "Python 3 (ipykernel)",
   "language": "python",
   "name": "python3"
  },
  "language_info": {
   "codemirror_mode": {
    "name": "ipython",
    "version": 3
   },
   "file_extension": ".py",
   "mimetype": "text/x-python",
   "name": "python",
   "nbconvert_exporter": "python",
   "pygments_lexer": "ipython3",
   "version": "3.9.13"
  }
 },
 "nbformat": 4,
 "nbformat_minor": 4
}
