{
 "cells": [
  {
   "cell_type": "code",
   "execution_count": 1,
   "metadata": {
    "executionInfo": {
     "elapsed": 4,
     "status": "ok",
     "timestamp": 1686194215420,
     "user": {
      "displayName": "Shehara Pandithasekera",
      "userId": "11609127023175374977"
     },
     "user_tz": -330
    },
    "id": "FGFhMDRbBAnS"
   },
   "outputs": [],
   "source": [
    "import pandas as pd\n",
    "import numpy as np\n",
    "from sklearn.ensemble import RandomForestRegressor\n",
    "from sklearn.model_selection import train_test_split\n",
    "from sklearn.metrics import mean_squared_error"
   ]
  },
  {
   "cell_type": "code",
   "execution_count": 2,
   "metadata": {
    "colab": {
     "base_uri": "https://localhost:8080/",
     "height": 206
    },
    "executionInfo": {
     "elapsed": 3,
     "status": "ok",
     "timestamp": 1686194218338,
     "user": {
      "displayName": "Shehara Pandithasekera",
      "userId": "11609127023175374977"
     },
     "user_tz": -330
    },
    "id": "PFxAiuluBD1J",
    "outputId": "e65516d9-9e50-4ca6-d574-6593aa8d3af3"
   },
   "outputs": [
    {
     "data": {
      "text/html": [
       "<div>\n",
       "<style scoped>\n",
       "    .dataframe tbody tr th:only-of-type {\n",
       "        vertical-align: middle;\n",
       "    }\n",
       "\n",
       "    .dataframe tbody tr th {\n",
       "        vertical-align: top;\n",
       "    }\n",
       "\n",
       "    .dataframe thead th {\n",
       "        text-align: right;\n",
       "    }\n",
       "</style>\n",
       "<table border=\"1\" class=\"dataframe\">\n",
       "  <thead>\n",
       "    <tr style=\"text-align: right;\">\n",
       "      <th></th>\n",
       "      <th>date</th>\n",
       "      <th>ether_price</th>\n",
       "      <th>daily_tx_volume</th>\n",
       "      <th>unqiue_address_count</th>\n",
       "      <th>network_hashes</th>\n",
       "      <th>marketcap</th>\n",
       "      <th>tx_fee</th>\n",
       "      <th>network_util</th>\n",
       "      <th>gas_used</th>\n",
       "    </tr>\n",
       "  </thead>\n",
       "  <tbody>\n",
       "    <tr>\n",
       "      <th>0</th>\n",
       "      <td>7/30/2015</td>\n",
       "      <td>0.0</td>\n",
       "      <td>8893</td>\n",
       "      <td>8894</td>\n",
       "      <td>11.5297</td>\n",
       "      <td>0.0</td>\n",
       "      <td>0.0</td>\n",
       "      <td>0.0</td>\n",
       "      <td>0.0</td>\n",
       "    </tr>\n",
       "    <tr>\n",
       "      <th>1</th>\n",
       "      <td>7/31/2015</td>\n",
       "      <td>0.0</td>\n",
       "      <td>0</td>\n",
       "      <td>0</td>\n",
       "      <td>51.4594</td>\n",
       "      <td>0.0</td>\n",
       "      <td>0.0</td>\n",
       "      <td>0.0</td>\n",
       "      <td>0.0</td>\n",
       "    </tr>\n",
       "    <tr>\n",
       "      <th>2</th>\n",
       "      <td>8/1/2015</td>\n",
       "      <td>0.0</td>\n",
       "      <td>0</td>\n",
       "      <td>0</td>\n",
       "      <td>57.7845</td>\n",
       "      <td>0.0</td>\n",
       "      <td>0.0</td>\n",
       "      <td>0.0</td>\n",
       "      <td>0.0</td>\n",
       "    </tr>\n",
       "    <tr>\n",
       "      <th>3</th>\n",
       "      <td>8/2/2015</td>\n",
       "      <td>0.0</td>\n",
       "      <td>0</td>\n",
       "      <td>0</td>\n",
       "      <td>67.9224</td>\n",
       "      <td>0.0</td>\n",
       "      <td>0.0</td>\n",
       "      <td>0.0</td>\n",
       "      <td>0.0</td>\n",
       "    </tr>\n",
       "    <tr>\n",
       "      <th>4</th>\n",
       "      <td>8/3/2015</td>\n",
       "      <td>0.0</td>\n",
       "      <td>0</td>\n",
       "      <td>0</td>\n",
       "      <td>74.5737</td>\n",
       "      <td>0.0</td>\n",
       "      <td>0.0</td>\n",
       "      <td>0.0</td>\n",
       "      <td>0.0</td>\n",
       "    </tr>\n",
       "  </tbody>\n",
       "</table>\n",
       "</div>"
      ],
      "text/plain": [
       "        date  ether_price  daily_tx_volume  unqiue_address_count  \\\n",
       "0  7/30/2015          0.0             8893                  8894   \n",
       "1  7/31/2015          0.0                0                     0   \n",
       "2   8/1/2015          0.0                0                     0   \n",
       "3   8/2/2015          0.0                0                     0   \n",
       "4   8/3/2015          0.0                0                     0   \n",
       "\n",
       "   network_hashes  marketcap  tx_fee  network_util  gas_used  \n",
       "0         11.5297        0.0     0.0           0.0       0.0  \n",
       "1         51.4594        0.0     0.0           0.0       0.0  \n",
       "2         57.7845        0.0     0.0           0.0       0.0  \n",
       "3         67.9224        0.0     0.0           0.0       0.0  \n",
       "4         74.5737        0.0     0.0           0.0       0.0  "
      ]
     },
     "execution_count": 2,
     "metadata": {},
     "output_type": "execute_result"
    }
   ],
   "source": [
    "df = pd.read_csv('ethereum-price-dataset-new.csv')\n",
    "df.head()"
   ]
  },
  {
   "cell_type": "code",
   "execution_count": 4,
   "metadata": {
    "executionInfo": {
     "elapsed": 1,
     "status": "ok",
     "timestamp": 1686194220013,
     "user": {
      "displayName": "Shehara Pandithasekera",
      "userId": "11609127023175374977"
     },
     "user_tz": -330
    },
    "id": "gKt__L3NBf8o"
   },
   "outputs": [
    {
     "data": {
      "text/html": [
       "<div>\n",
       "<style scoped>\n",
       "    .dataframe tbody tr th:only-of-type {\n",
       "        vertical-align: middle;\n",
       "    }\n",
       "\n",
       "    .dataframe tbody tr th {\n",
       "        vertical-align: top;\n",
       "    }\n",
       "\n",
       "    .dataframe thead th {\n",
       "        text-align: right;\n",
       "    }\n",
       "</style>\n",
       "<table border=\"1\" class=\"dataframe\">\n",
       "  <thead>\n",
       "    <tr style=\"text-align: right;\">\n",
       "      <th></th>\n",
       "      <th>date</th>\n",
       "      <th>ether_price</th>\n",
       "      <th>daily_tx_volume</th>\n",
       "      <th>unqiue_address_count</th>\n",
       "      <th>network_hashes</th>\n",
       "      <th>marketcap</th>\n",
       "      <th>tx_fee</th>\n",
       "      <th>network_util</th>\n",
       "      <th>gas_used</th>\n",
       "    </tr>\n",
       "  </thead>\n",
       "  <tbody>\n",
       "    <tr>\n",
       "      <th>0</th>\n",
       "      <td>1438214400000000000</td>\n",
       "      <td>0.0</td>\n",
       "      <td>8893</td>\n",
       "      <td>8894</td>\n",
       "      <td>11.5297</td>\n",
       "      <td>0.0</td>\n",
       "      <td>0.0</td>\n",
       "      <td>0.0</td>\n",
       "      <td>0.0</td>\n",
       "    </tr>\n",
       "    <tr>\n",
       "      <th>1</th>\n",
       "      <td>1438300800000000000</td>\n",
       "      <td>0.0</td>\n",
       "      <td>0</td>\n",
       "      <td>0</td>\n",
       "      <td>51.4594</td>\n",
       "      <td>0.0</td>\n",
       "      <td>0.0</td>\n",
       "      <td>0.0</td>\n",
       "      <td>0.0</td>\n",
       "    </tr>\n",
       "    <tr>\n",
       "      <th>2</th>\n",
       "      <td>1438387200000000000</td>\n",
       "      <td>0.0</td>\n",
       "      <td>0</td>\n",
       "      <td>0</td>\n",
       "      <td>57.7845</td>\n",
       "      <td>0.0</td>\n",
       "      <td>0.0</td>\n",
       "      <td>0.0</td>\n",
       "      <td>0.0</td>\n",
       "    </tr>\n",
       "    <tr>\n",
       "      <th>3</th>\n",
       "      <td>1438473600000000000</td>\n",
       "      <td>0.0</td>\n",
       "      <td>0</td>\n",
       "      <td>0</td>\n",
       "      <td>67.9224</td>\n",
       "      <td>0.0</td>\n",
       "      <td>0.0</td>\n",
       "      <td>0.0</td>\n",
       "      <td>0.0</td>\n",
       "    </tr>\n",
       "    <tr>\n",
       "      <th>4</th>\n",
       "      <td>1438560000000000000</td>\n",
       "      <td>0.0</td>\n",
       "      <td>0</td>\n",
       "      <td>0</td>\n",
       "      <td>74.5737</td>\n",
       "      <td>0.0</td>\n",
       "      <td>0.0</td>\n",
       "      <td>0.0</td>\n",
       "      <td>0.0</td>\n",
       "    </tr>\n",
       "  </tbody>\n",
       "</table>\n",
       "</div>"
      ],
      "text/plain": [
       "                  date  ether_price  daily_tx_volume  unqiue_address_count  \\\n",
       "0  1438214400000000000          0.0             8893                  8894   \n",
       "1  1438300800000000000          0.0                0                     0   \n",
       "2  1438387200000000000          0.0                0                     0   \n",
       "3  1438473600000000000          0.0                0                     0   \n",
       "4  1438560000000000000          0.0                0                     0   \n",
       "\n",
       "   network_hashes  marketcap  tx_fee  network_util  gas_used  \n",
       "0         11.5297        0.0     0.0           0.0       0.0  \n",
       "1         51.4594        0.0     0.0           0.0       0.0  \n",
       "2         57.7845        0.0     0.0           0.0       0.0  \n",
       "3         67.9224        0.0     0.0           0.0       0.0  \n",
       "4         74.5737        0.0     0.0           0.0       0.0  "
      ]
     },
     "execution_count": 4,
     "metadata": {},
     "output_type": "execute_result"
    }
   ],
   "source": [
    "df['date'] = pd.to_datetime(df['date']).astype('int64')\n",
    "df.head()"
   ]
  },
  {
   "cell_type": "code",
   "execution_count": 5,
   "metadata": {
    "executionInfo": {
     "elapsed": 2,
     "status": "ok",
     "timestamp": 1686194221712,
     "user": {
      "displayName": "Shehara Pandithasekera",
      "userId": "11609127023175374977"
     },
     "user_tz": -330
    },
    "id": "C8Rhkf9nBMCn"
   },
   "outputs": [],
   "source": [
    "Y=df['ether_price']\n",
    "X=df.drop('ether_price', axis=1).values"
   ]
  },
  {
   "cell_type": "code",
   "execution_count": 6,
   "metadata": {
    "executionInfo": {
     "elapsed": 3,
     "status": "ok",
     "timestamp": 1686194223484,
     "user": {
      "displayName": "Shehara Pandithasekera",
      "userId": "11609127023175374977"
     },
     "user_tz": -330
    },
    "id": "bhrX_Y_XBQAR"
   },
   "outputs": [],
   "source": [
    "X_train, X_test, Y_train, Y_test = train_test_split(X, Y, test_size=0.3, random_state=42)"
   ]
  },
  {
   "cell_type": "code",
   "execution_count": null,
   "metadata": {
    "colab": {
     "base_uri": "https://localhost:8080/"
    },
    "executionInfo": {
     "elapsed": 1279,
     "status": "ok",
     "timestamp": 1686194247943,
     "user": {
      "displayName": "Shehara Pandithasekera",
      "userId": "11609127023175374977"
     },
     "user_tz": -330
    },
    "id": "DhslvEIZBSON",
    "outputId": "7a1b4ed8-c03e-45dd-b802-e931da3cffc9"
   },
   "outputs": [],
   "source": [
    "rf_model = RandomForestRegressor()\n",
    "rf_model.fit(X_train, Y_train)\n",
    "\n",
    "Y_pred = rf_model.predict(X_test)\n",
    "print(Y_pred)"
   ]
  },
  {
   "cell_type": "code",
   "execution_count": 17,
   "metadata": {
    "colab": {
     "base_uri": "https://localhost:8080/"
    },
    "executionInfo": {
     "elapsed": 432,
     "status": "ok",
     "timestamp": 1686194253090,
     "user": {
      "displayName": "Shehara Pandithasekera",
      "userId": "11609127023175374977"
     },
     "user_tz": -330
    },
    "id": "YNVkJhY1BXFH",
    "outputId": "417e094a-e129-45eb-92f0-adab11eab30c"
   },
   "outputs": [
    {
     "name": "stdout",
     "output_type": "stream",
     "text": [
      "Mean Squared Error (MSE): 200.12034155247392\n",
      "Root Mean Squared Error (RMSE): 14.146389700290102\n"
     ]
    }
   ],
   "source": [
    "mse = mean_squared_error(Y_test, Y_pred)\n",
    "rmse = mean_squared_error(Y_test, Y_pred, squared=False)\n",
    "print(\"Mean Squared Error (MSE):\", mse)\n",
    "print(\"Root Mean Squared Error (RMSE):\", rmse)"
   ]
  },
  {
   "cell_type": "code",
   "execution_count": 18,
   "metadata": {
    "colab": {
     "base_uri": "https://localhost:8080/"
    },
    "executionInfo": {
     "elapsed": 3,
     "status": "ok",
     "timestamp": 1686194654328,
     "user": {
      "displayName": "Shehara Pandithasekera",
      "userId": "11609127023175374977"
     },
     "user_tz": -330
    },
    "id": "KBEw49HiAaha",
    "outputId": "fd74aacf-00ad-4a38-f98e-a48fc809b827"
   },
   "outputs": [
    {
     "name": "stdout",
     "output_type": "stream",
     "text": [
      "date : 0.9988906664421217\n",
      "daily_tx_volume : 0.0004431225308812028\n",
      "unqiue_address_count : 0.00029765650398946885\n",
      "network_hashes : 0.00010146042802032759\n",
      "marketcap : 7.593101331304114e-05\n",
      "tx_fee : 7.388872916264332e-05\n",
      "network_util : 6.968750946630001e-05\n",
      "gas_used : 4.758684304537233e-05\n"
     ]
    }
   ],
   "source": [
    "feature_importances = rf_model.feature_importances_\n",
    "\n",
    "sorted_indices = np.argsort(feature_importances)[::-1]\n",
    "sorted_features = df.drop('ether_price', axis=1).columns.tolist()\n",
    "sorted_importances = feature_importances[sorted_indices]\n",
    "feature_importance = []\n",
    "feature_names = []\n",
    "\n",
    "for feature, importance in zip(sorted_features, sorted_importances):\n",
    "    feature_names.append(feature) \n",
    "    feature_importance.append(importance) \n",
    "    print(f\"{feature} : {importance}\")"
   ]
  },
  {
   "cell_type": "code",
   "execution_count": 19,
   "metadata": {
    "executionInfo": {
     "elapsed": 506,
     "status": "ok",
     "timestamp": 1686193668567,
     "user": {
      "displayName": "Shehara Pandithasekera",
      "userId": "11609127023175374977"
     },
     "user_tz": -330
    },
    "id": "nZznOwvnBmlA"
   },
   "outputs": [],
   "source": [
    "import matplotlib.pyplot as plt"
   ]
  },
  {
   "cell_type": "code",
   "execution_count": 20,
   "metadata": {
    "colab": {
     "base_uri": "https://localhost:8080/"
    },
    "executionInfo": {
     "elapsed": 472,
     "status": "ok",
     "timestamp": 1686193689525,
     "user": {
      "displayName": "Shehara Pandithasekera",
      "userId": "11609127023175374977"
     },
     "user_tz": -330
    },
    "id": "qPGvnZ1GBojR",
    "outputId": "583fa9ba-93c7-48dd-c07d-e2a1b620c759"
   },
   "outputs": [],
   "source": [
    "df['date'] = pd.to_datetime(df['date'], unit='ns')\n",
    "df_2023 = df[df['date'].dt.year == 2023]"
   ]
  },
  {
   "cell_type": "code",
   "execution_count": 21,
   "metadata": {
    "executionInfo": {
     "elapsed": 1,
     "status": "ok",
     "timestamp": 1686193693175,
     "user": {
      "displayName": "Shehara Pandithasekera",
      "userId": "11609127023175374977"
     },
     "user_tz": -330
    },
    "id": "FtwKoNIBRCfg"
   },
   "outputs": [],
   "source": [
    "filtered_values = [value for value in Y_pred[:len(df_2023)] if 1000 <= value <= 4000]\n",
    "filtered_dates = df_2023['date'][:len(filtered_values)]"
   ]
  },
  {
   "cell_type": "code",
   "execution_count": null,
   "metadata": {
    "colab": {
     "base_uri": "https://localhost:8080/",
     "height": 524
    },
    "executionInfo": {
     "elapsed": 767,
     "status": "ok",
     "timestamp": 1686193695891,
     "user": {
      "displayName": "Shehara Pandithasekera",
      "userId": "11609127023175374977"
     },
     "user_tz": -330
    },
    "id": "7IICYW8ZREiw",
    "outputId": "03f86337-658b-4a91-8ea2-5f5ea8a677a6"
   },
   "outputs": [],
   "source": [
    "plt.plot(filtered_dates, filtered_values)\n",
    "plt.xlabel('Date')\n",
    "plt.ylabel('Ethereum Value (Y_pred)')\n",
    "plt.title('Predicted Ethereum Values in 2023 (Filtered)')\n",
    "plt.xticks(rotation=45)\n",
    "plt.show()"
   ]
  },
  {
   "cell_type": "code",
   "execution_count": null,
   "metadata": {
    "colab": {
     "base_uri": "https://localhost:8080/",
     "height": 524
    },
    "executionInfo": {
     "elapsed": 958,
     "status": "ok",
     "timestamp": 1686193741845,
     "user": {
      "displayName": "Shehara Pandithasekera",
      "userId": "11609127023175374977"
     },
     "user_tz": -330
    },
    "id": "IWoiqWtGdLwi",
    "outputId": "00e3d91f-7a3e-4a55-aea0-b67a0118be18"
   },
   "outputs": [],
   "source": [
    "predicted_dates = pd.date_range(start='2023-06-07', end='2023-07-30')\n",
    "filtered_values1 = [value for value in Y_pred[:len(predicted_dates)] if 1000 <= value <= 4000]\n",
    "filtered_dates1 = predicted_dates[:len(filtered_values1)]\n",
    "\n",
    "plt.plot(filtered_dates1, filtered_values1)\n",
    "plt.xlabel('Date')\n",
    "plt.ylabel('Ethereum Price')\n",
    "plt.title('Predicted Ethereum Prices from 6-7-2023 to 6-23-2023')\n",
    "plt.xticks(rotation=45)\n",
    "plt.show()"
   ]
  },
  {
   "cell_type": "code",
   "execution_count": 15,
   "metadata": {
    "colab": {
     "base_uri": "https://localhost:8080/",
     "height": 508
    },
    "executionInfo": {
     "elapsed": 1092,
     "status": "ok",
     "timestamp": 1686193715376,
     "user": {
      "displayName": "Shehara Pandithasekera",
      "userId": "11609127023175374977"
     },
     "user_tz": -330
    },
    "id": "kwlVTkagBqfQ",
    "outputId": "838612f4-fef3-46c3-cf4f-2e89ae9124c7"
   },
   "outputs": [
    {
     "data": {
      "image/png": "[encoded data removed]",
      "text/plain": [
       "<Figure size 640x480 with 1 Axes>"
      ]
     },
     "metadata": {},
     "output_type": "display_data"
    }
   ],
   "source": [
    "plt.plot(df_2023['date'], Y_pred[:len(df_2023)])\n",
    "plt.xlabel('Date')\n",
    "plt.ylabel('Ethereum Value (y_pred)')\n",
    "plt.title('Predicted Ethereum Values in 2023')\n",
    "plt.xticks(rotation=45)\n",
    "plt.show()"
   ]
  }
 ],
 "metadata": {
  "colab": {
   "authorship_tag": "ABX9TyNFOIwPxikwhJ/wuOb1owRG",
   "provenance": []
  },
  "kernelspec": {
   "display_name": "Python 3 (ipykernel)",
   "language": "python",
   "name": "python3"
  },
  "language_info": {
   "codemirror_mode": {
    "name": "ipython",
    "version": 3
   },
   "file_extension": ".py",
   "mimetype": "text/x-python",
   "name": "python",
   "nbconvert_exporter": "python",
   "pygments_lexer": "ipython3",
   "version": "3.9.13"
  }
 },
 "nbformat": 4,
 "nbformat_minor": 4
}
